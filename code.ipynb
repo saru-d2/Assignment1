{
 "cells": [
  {
   "cell_type": "code",
   "execution_count": 1,
   "metadata": {},
   "outputs": [],
   "source": [
    "import numpy as np\n",
    "import pandas as pd\n",
    "import matplotlib.pyplot as plt\n",
    "from sklearn.linear_model import LinearRegression\n",
    "from sklearn.preprocessing import PolynomialFeatures\n",
    "import pickle "
   ]
  },
  {
   "cell_type": "code",
   "execution_count": 2,
   "metadata": {},
   "outputs": [],
   "source": [
    "with open('./data/test.pkl', 'rb') as fd:\n",
    "    unpickledTest = pickle.load(fd)\n",
    "\n",
    "with open('./data/train.pkl', 'rb') as fd:\n",
    "    unpickledTrain = pickle.load(fd)"
   ]
  },
  {
   "cell_type": "code",
   "execution_count": 3,
   "metadata": {},
   "outputs": [],
   "source": [
    "#partition Data\n",
    "testData = unpickledTest\n",
    "\n",
    "np.random.shuffle(unpickledTrain)\n",
    "trainData = np.split(unpickledTrain, 10)\n"
   ]
  },
  {
   "cell_type": "code",
   "execution_count": 10,
   "metadata": {
    "tags": []
   },
   "outputs": [
    {
     "name": "stdout",
     "output_type": "stream",
     "text": [
      "6665972.917891815\n",
      "1005221.0618701068\n",
      "6661951.115836923\n",
      "954036.3457896278\n",
      "6611386.915153338\n",
      "9039.33208727319\n",
      "6611273.015665445\n",
      "7687.838715779768\n",
      "6611217.5886488\n",
      "7330.530730471309\n",
      "6611218.072557687\n",
      "7854.225694811348\n",
      "6611156.267183797\n",
      "8545.260716672154\n",
      "6611224.687714858\n",
      "9323.927927885718\n",
      "6611180.841680771\n",
      "9226.115121044171\n",
      "6611200.465065993\n",
      "9463.508484185959\n",
      "6611220.374447147\n",
      "9440.381171595849\n",
      "6611131.353207948\n",
      "22549.916935940702\n",
      "6611392.449439096\n",
      "14056.62076716774\n",
      "6611726.248593947\n",
      "35077.834241979246\n",
      "6612384.535011672\n",
      "63957.70173444929\n",
      "6612353.139497733\n",
      "74301.6580458215\n",
      "6613678.105692916\n",
      "126301.89339890852\n",
      "6613708.26542735\n",
      "138823.4575385734\n",
      "6615710.408597028\n",
      "216843.06307643923\n",
      "6615952.587565919\n",
      "233013.1510020434\n"
     ]
    }
   ],
   "source": [
    "maxDegree = 20\n",
    "numModels = 10\n",
    "\n",
    "bias2Arr = np.zeros(maxDegree)\n",
    "varianceArr = np.zeros(maxDegree)\n",
    "\n",
    "y_res_arr = np.zeros(maxDegree)\n",
    "\n",
    "for deg in range(maxDegree): \n",
    "    predMatrix = np.zeros((numModels,len(testData[:, 0])))\n",
    "    predMatrix2 = np.zeros(len(testData[:, 0]))\n",
    "\n",
    "    for i in range(numModels): #should be 0, 10\n",
    "        poly = PolynomialFeatures(degree = deg+1)\n",
    "        # reshaping data\n",
    "        X_train = poly.fit_transform(trainData[i][:, 0].reshape(-1, 1))\n",
    "        y_train = trainData[i][:, 1].reshape(-1, 1)\n",
    "        X_test = poly.fit_transform(testData[:, 0].reshape(-1, 1))\n",
    "        y_test = testData[:, 1].reshape(-1, 1)\n",
    "\n",
    "        reg = LinearRegression()\n",
    "        reg.fit(X_train, y_train)\n",
    "        \n",
    "        y_pred = reg.predict(X_test)\n",
    "        # print(y_pred.reshape(len(y_pred)).shape)\n",
    "        predMatrix[i] = y_pred.reshape( len(y_pred))\n",
    "        predMatrix2 += y_pred.reshape( len(y_pred))\n",
    "        # print(y_pred)\n",
    "#         plt.scatter(testData[:, 0], y_test)\n",
    "#         plt.scatter(testData[:, 0], y_pred)\n",
    "#         plt.title(str(deg+1) + ' ' + str(i))\n",
    "#         plt.show()\n",
    "    predMatrix2 /= numModels\n",
    "#     y_res_arr[deg] = np.mean(predMatrix,axis=1)\n",
    "#     bias2Arr[deg] = np.mean((np.mean(predMatrix, axis =1) - testData[:, 1]) ** 2)\n",
    "    bias2Arr[deg] = np.mean((np.mean(predMatrix2) - testData[:, 1]) ** 2)\n",
    "    varianceArr[deg] = np.mean(np.var(predMatrix, axis = 1))\n",
    "#     varianceArr[deg] = np.var(predMatrix2)\n",
    "#     print(varianceArr[deg])\n",
    "#     print(np.mean(np.var(predMatrix, axis = 1)))\n",
    "    print(bias2Arr[deg])\n",
    "    print(np.mean((np.mean(predMatrix, axis =0) - testData[:, 1]) ** 2))\n"
   ]
  },
  {
   "cell_type": "code",
   "execution_count": 5,
   "metadata": {},
   "outputs": [
    {
     "name": "stdout",
     "output_type": "stream",
     "text": [
      "69801.77693761815\n"
     ]
    }
   ],
   "source": [
    "print(np.var(np.array([1,23,46,23,1,32,54,2,143,64,345,1,243,65,3,321,41,443,124,1243,325,234,34])))"
   ]
  },
  {
   "cell_type": "code",
   "execution_count": 6,
   "metadata": {},
   "outputs": [
    {
     "data": {
      "image/png": "[encoded data removed]",
      "text/plain": [
       "<Figure size 432x288 with 1 Axes>"
      ]
     },
     "metadata": {
      "needs_background": "light"
     },
     "output_type": "display_data"
    }
   ],
   "source": [
    "# plt.plot(varianceArr)\n",
    "plt.plot(bias2Arr)\n",
    "plt.show()"
   ]
  },
  {
   "cell_type": "code",
   "execution_count": 7,
   "metadata": {},
   "outputs": [
    {
     "data": {
      "image/png": "[encoded data removed]",
      "text/plain": [
       "<Figure size 432x288 with 1 Axes>"
      ]
     },
     "metadata": {
      "needs_background": "light"
     },
     "output_type": "display_data"
    }
   ],
   "source": [
    "plt.plot(varianceArr)\n",
    "plt.show()"
   ]
  },
  {
   "cell_type": "code",
   "execution_count": null,
   "metadata": {},
   "outputs": [],
   "source": []
  }
 ],
 "metadata": {
  "kernelspec": {
   "display_name": "Python 3",
   "language": "python",
   "name": "python3"
  },
  "language_info": {
   "codemirror_mode": {
    "name": "ipython",
    "version": 3
   },
   "file_extension": ".py",
   "mimetype": "text/x-python",
   "name": "python",
   "nbconvert_exporter": "python",
   "pygments_lexer": "ipython3",
   "version": "3.6.9"
  }
 },
 "nbformat": 4,
 "nbformat_minor": 2
}
