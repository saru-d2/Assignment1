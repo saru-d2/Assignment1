{
 "metadata": {
  "language_info": {
   "codemirror_mode": {
    "name": "ipython",
    "version": 3
   },
   "file_extension": ".py",
   "mimetype": "text/x-python",
   "name": "python",
   "nbconvert_exporter": "python",
   "pygments_lexer": "ipython3",
   "version": "3.9.1-final"
  },
  "orig_nbformat": 2,
  "kernelspec": {
   "name": "python3",
   "display_name": "Python 3",
   "language": "python"
  }
 },
 "nbformat": 4,
 "nbformat_minor": 2,
 "cells": [
  {
   "cell_type": "code",
   "execution_count": 1,
   "metadata": {},
   "outputs": [],
   "source": [
    "import numpy as np\n",
    "import pandas as pd\n",
    "import matplotlib.pyplot as plt\n",
    "import sklearn\n",
    "from sklearn import linear_model\n",
    "import pickle "
   ]
  },
  {
   "cell_type": "code",
   "execution_count": 13,
   "metadata": {},
   "outputs": [
    {
     "output_type": "stream",
     "name": "stdout",
     "text": [
      "testFile Shape: (80, 2)\ntrainFile Shape: (8000, 2)\n"
     ]
    }
   ],
   "source": [
    "testFile = open('./data/test.pkl', 'rb')\n",
    "trainFile = open('./data/train.pkl', 'rb')\n",
    "unpickedTest = pickle.load(testFile)\n",
    "unpickedTrain = pickle.load(trainFile)\n",
    "testFile.close()\n",
    "trainFile.close()\n",
    "print('testFile Shape: ' + str(unpickedTest.shape))\n",
    "print('trainFile Shape: ' + str(unpickedTrain.shape))\n"
   ]
  },
  {
   "cell_type": "code",
   "execution_count": null,
   "metadata": {},
   "outputs": [],
   "source": [
    "testData = {}\n",
    "testData['X'] = unpickedTest[:, 0]\n",
    "testData['y'] = unpickedTest[:, 1]\n",
    "np.random.shuffle(unpickedTrain)\n",
    "delimNum = int(len(unpickedTrain) / 10)\n",
    "trainData = [{} for i in range(0, 10)]\n",
    "cur = 0\n",
    "for i in range (0, 10):\n",
    "    trainData[i]['X'] = unpickedTrain[cur: cur + delimNum, 0]\n",
    "    trainData[i]['y'] = unpickedTrain[cur: cur + delimNum, 1]\n",
    "    cur+=delimNum"
   ]
  },
  {
   "cell_type": "code",
   "execution_count": null,
   "metadata": {},
   "outputs": [],
   "source": []
  }
 ]
}