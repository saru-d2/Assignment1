{
 "metadata": {
  "language_info": {
   "codemirror_mode": {
    "name": "ipython",
    "version": 3
   },
   "file_extension": ".py",
   "mimetype": "text/x-python",
   "name": "python",
   "nbconvert_exporter": "python",
   "pygments_lexer": "ipython3",
   "version": "3.9.1-final"
  },
  "orig_nbformat": 2,
  "kernelspec": {
   "name": "python3",
   "display_name": "Python 3.9.1 64-bit ('.venv': venv)",
   "metadata": {
    "interpreter": {
     "hash": "be03e20639f2a98d1b10df997c708e7091ae3d5d14b4d8dffd849645a3d010b2"
    }
   }
  }
 },
 "nbformat": 4,
 "nbformat_minor": 2,
 "cells": [
  {
   "source": [
    "# trying stuff out\n"
   ],
   "cell_type": "markdown",
   "metadata": {}
  },
  {
   "cell_type": "code",
   "execution_count": 11,
   "metadata": {},
   "outputs": [],
   "source": [
    "# importing crap\n",
    "import numpy as np\n",
    "import pandas as pd\n",
    "import matplotlib.pyplot as plt\n",
    "import sklearn\n",
    "import pickle\n"
   ]
  },
  {
   "cell_type": "code",
   "execution_count": 15,
   "metadata": {},
   "outputs": [
    {
     "output_type": "stream",
     "name": "stdout",
     "text": [
      "[[0.00000000e+00 1.78387509e+01]\n [1.00020004e-03 1.82554678e+01]\n [2.00040008e-03 1.77482208e+01]\n ...\n [4.99799960e+00 4.26709311e+01]\n [4.99899980e+00 4.26951974e+01]\n [5.00000000e+00 4.23927883e+01]]\n(5000, 2)\n"
     ]
    }
   ],
   "source": [
    "# reading data\n",
    "dataFile = open('../data.pkl', 'rb')\n",
    "unpickled_data = pickle.load(dataFile)\n",
    "dataFile.close()\n",
    "print(unpickled_data)\n",
    "print(unpickled_data.shape)"
   ]
  },
  {
   "source": [
    "so the data is 5000 * 2\n",
    "\n",
    "now for 'stuff'"
   ],
   "cell_type": "markdown",
   "metadata": {}
  },
  {
   "cell_type": "code",
   "execution_count": 23,
   "metadata": {},
   "outputs": [
    {
     "output_type": "stream",
     "name": "stdout",
     "text": [
      "<class 'numpy.ndarray'>\n[ 4.08481696 26.44662443]\n"
     ]
    }
   ],
   "source": [
    "# spliting data into 1:9 :: test : train.   \n",
    "print(type(unpickled_data))\n",
    "np.random.shuffle(unpickled_data)\n",
    "print(unpickled_data[-1])"
   ]
  },
  {
   "cell_type": "code",
   "execution_count": null,
   "metadata": {},
   "outputs": [],
   "source": []
  }
 ]
}